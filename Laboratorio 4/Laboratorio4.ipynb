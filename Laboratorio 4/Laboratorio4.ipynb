{
 "cells": [
  {
   "cell_type": "markdown",
   "metadata": {},
   "source": [
    "# Laboratorio 4: Método Simplex y sus Variaciones\n",
    "\n",
    "Santiago Casasbuenas - 202214932\n",
    "\n",
    "Amalia Carbonell - 202122079 "
   ]
  },
  {
   "cell_type": "markdown",
   "metadata": {},
   "source": [
    "## Problema 1: Implementación del Método Simplex Estándar\n",
    "\n",
    "Implementar el método Simplex estándar para resolver el siguiente problema de programación lineal:\n",
    "\n",
    "Maximizar:  \n",
    "$$\n",
    "Z = 3x_1 + 2x_2 + 5x_3 \n",
    "$$\n",
    "\n",
    "Sujeto a:  \n",
    "$$\n",
    "x_1 + x_2 + x_3 \\leq 100  \\\\\n",
    "2x_1 + x_2 + x_3 \\leq 150 \\\\\n",
    "x_1 + 4x_2 + 2x_3 \\leq 80\n",
    "$$\n",
    "\n",
    "Con:  \n",
    "$$\n",
    "x_1, x_2, x_3 \\geq 0 \n",
    "$$\n",
    "\n"
   ]
  },
  {
   "cell_type": "markdown",
   "metadata": {},
   "source": [
    "## Problema 2: Implementación del Método Simplex Dual Phase"
   ]
  },
  {
   "cell_type": "markdown",
   "metadata": {},
   "source": [
    "Minimizar\n",
    "$$\n",
    "Z = 5x_1 - 4x_2 + 3x_3\n",
    "$$\n",
    "\n",
    "sujeto a \n",
    "$$\n",
    "2x_1 + x_2 - x_3 = 10 \\\\\n",
    "x_1 - 3x_2 + 2x_3 \\geq 5 \\\\\n",
    "x_1 + x_2 + x_3 \\leq 15\\\\\n",
    "x_1, x_2, x_3 \\geq 0\n",
    "$$\n"
   ]
  },
  {
   "cell_type": "markdown",
   "metadata": {},
   "source": [
    "### Procedimiento:"
   ]
  },
  {
   "cell_type": "markdown",
   "metadata": {},
   "source": [
    "#### Convertir el problema a la forma estándar, transformando la minimización en maximización, convirtiendo las desigualdades en igualdades mediante variables de holgura y/o exceso, y asegurando que los términos independientes sean no negativos."
   ]
  },
  {
   "cell_type": "markdown",
   "metadata": {},
   "source": [
    "##### 1.1 Convertir el problema en forma estándar\n",
    "Multiplicamos ambos lados de la ecuacion por -1 para obtener un problema de maximización:\n",
    "\n",
    "Minimizar: $Z = 5x_1 - 4x_2 + 3x_3$ \n",
    "\n",
    "Maximizar: $Z^{'} = -5x_1 + 4x_2 - 3x_3$"
   ]
  },
  {
   "cell_type": "markdown",
   "metadata": {},
   "source": [
    "##### 1.2 Convertir todas las restricciones a igualdades"
   ]
  },
  {
   "cell_type": "markdown",
   "metadata": {},
   "source": [
    "- **Para las restricciones `≤`**: Agregamos variables de holgura.\n",
    "- **Para las restricciones `≥`**: Agregamos variables de exceso y artificiales.\n",
    "- **Para las restricciones `=`**: Agregamos variables artificiales si no se puede construir una SBF directamente."
   ]
  },
  {
   "cell_type": "markdown",
   "metadata": {},
   "source": [
    "**Restricción 1 original:** \n",
    "\n",
    "$$2x_1 + x_2 - x_3 = 10$$\n",
    "\n",
    "Agregamos una variable artificial $a_1$ para poder formar una base:\n",
    "\n",
    "$$2x_1 + x_2 - x_3 + a_1 = 10$$"
   ]
  },
  {
   "cell_type": "markdown",
   "metadata": {},
   "source": [
    "**Restricción 2 original:**\n",
    "\n",
    "$$x_1 - 3x_2 + 2x_3 \\geq 5 $$\n",
    "\n",
    "Convertimos en una igualdad a partir de restar una variable de exceso $e_1$ y sumar una variable artificial $a_2$:\n",
    "\n",
    "$$x_1 - 3x_2 + 2x_3 - e_1 + a_2 = 5 $$"
   ]
  },
  {
   "cell_type": "markdown",
   "metadata": {},
   "source": [
    "**Restricción 3 original:**\n",
    "\n",
    "$$x_1 + x_2 + x_3 \\leq 15$$\n",
    "\n",
    "Añadimos una variable de holgura $s_1$:\n",
    "\n",
    "$$x_1 + x_2 + x_3 + s_1 = 15$$\n"
   ]
  },
  {
   "cell_type": "markdown",
   "metadata": {},
   "source": [
    "**Nuevas restricciones:**\n",
    "\n",
    "$$\n",
    "2x_1 + x_2 - x_3 + a_1 = 10 \\\\\n",
    "x_1 - 3x_2 + 2x_3 - e_1 + a_2 = 5 \\\\\n",
    "x_1 + x_2 + x_3 + s_1 = 15\n",
    "$$"
   ]
  },
  {
   "cell_type": "markdown",
   "metadata": {},
   "source": [
    "##### 1.3 Asegurar que los términos independientes sean no negativos\n",
    "\n",
    "Todas las ecuaciones son positivas al lado derecho, por lo cual, no se debe hacer ninguna transformación.\n",
    "\n",
    "Por lo tanto, nuestro nuevo problema se ve de la siguiente forma:"
   ]
  },
  {
   "cell_type": "markdown",
   "metadata": {},
   "source": [
    "**Maximizar:**\n",
    "\n",
    "$$\n",
    "Z^{'} = -5x_1 + 4x_2 - 3x_3\n",
    "$$\n",
    "\n",
    "**Sujeto a:**\n",
    "\n",
    "$$\n",
    "2x_1 + x_2 - x_3 + a_1 = 10 \\\\\n",
    "x_1 - 3x_2 + 2x_3 - e_1 + a_2 = 5 \\\\\n",
    "x_1 + x_2 + x_3 + s_1 = 15 \\\\\n",
    "x_1, x_2, x_3, s_1, e_1, a_1, a_2 \\geq 0\n",
    "$$"
   ]
  },
  {
   "cell_type": "markdown",
   "metadata": {},
   "source": [
    "#### Implementar el algoritmo del método Simplex de Dos Fases desde cero en Python"
   ]
  },
  {
   "cell_type": "markdown",
   "metadata": {},
   "source": [
    "##### Preparación de modelo auxiliar (Fase 1)"
   ]
  },
  {
   "cell_type": "markdown",
   "metadata": {},
   "source": [
    "Nuestro objetivo es minimizar la suma de las variables artificiales:\n",
    "\n",
    "**Minimizar**\n",
    "$$\n",
    "W  = a_1 + a_2\n",
    "$$\n",
    "\n"
   ]
  },
  {
   "cell_type": "markdown",
   "metadata": {},
   "source": [
    "Podemos hacerlo como problema de maximización usando:\n",
    "\n",
    "**Maximizar**\n",
    "$$\n",
    "-W = -a_1 -a_2\n",
    "$$"
   ]
  },
  {
   "cell_type": "markdown",
   "metadata": {},
   "source": [
    "Entonces, preparamos la matriz del problema a partir de la construcción de un tableau inicial para la fase 1:"
   ]
  },
  {
   "cell_type": "code",
   "execution_count": 20,
   "metadata": {},
   "outputs": [
    {
     "name": "stdout",
     "output_type": "stream",
     "text": [
      "Tableau Inicial (Fase I):\n",
      "[[  2.   1.  -1.   0.   0.   1.   0.  10.]\n",
      " [  1.  -3.   2.   0.  -1.   0.   1.   5.]\n",
      " [  1.   1.   1.   1.   0.   0.   0.  15.]\n",
      " [ -3.   2.  -1.   0.   1.  -1.  -1. -15.]]\n"
     ]
    }
   ],
   "source": [
    "import numpy as np\n",
    "\n",
    "# Variables: x1, x2, x3, s1, e1, a1, a2\n",
    "# Orden:     x1 x2 x3 s1 e1 a1 a2 RHS\n",
    "n_vars = 7  # Número de variables (sin incluir RHS)\n",
    "tableau = []\n",
    "\n",
    "# R1: 2x1 + x2 - x3 + a1 = 10\n",
    "tableau.append([2, 1, -1, 0, 0, 1, 0, 10])\n",
    "\n",
    "# R2: x1 - 3x2 + 2x3 - e1 + a2 = 5\n",
    "tableau.append([1, -3, 2, 0, -1, 0, 1, 5])\n",
    "\n",
    "# R3: x1 + x2 + x3 + s1 = 15\n",
    "tableau.append([1, 1, 1, 1, 0, 0, 0, 15])\n",
    "\n",
    "# Función objetivo auxiliar (W = a1 + a2 → -W = -a1 - a2)\n",
    "# Notamos que las variables artificiales tienen coeficiente -1\n",
    "# Luego ajustamos para que la fila Z represente la suma negativa de las filas artificiales\n",
    "Z_row = [0] * (n_vars + 1)  # inicializar fila objetivo con ceros (sin RHS aún)\n",
    "for i in range(2):  # artificiales están en las dos primeras filas\n",
    "    for j in range(n_vars + 1):\n",
    "        Z_row[j] -= tableau[i][j]  # restar la fila para formar el -W\n",
    "tableau.append(Z_row)\n",
    "\n",
    "# Convertir a array para facilitar operaciones\n",
    "tableau = np.array(tableau, dtype=float)\n",
    "\n",
    "# Mostrar tableau inicial\n",
    "print(\"Tableau Inicial (Fase I):\")\n",
    "print(tableau)\n"
   ]
  },
  {
   "cell_type": "markdown",
   "metadata": {},
   "source": [
    "Con este código resolvemos inicialmente:\n",
    "\n",
    "1. Conversión de restricciones en igualdades.\n",
    "\n",
    "2. Inclusión de variables de holgura, exceso y artificiales.\n",
    "\n",
    "3. Construcción de tableau inicial con la función objetivo auxiliar $-a_1 -a_2$"
   ]
  },
  {
   "cell_type": "markdown",
   "metadata": {},
   "source": [
    "##### Ejecutar iteraciones simplex (Fase 1)"
   ]
  },
  {
   "cell_type": "markdown",
   "metadata": {},
   "source": [
    "Buscamos ser capaces de implementar un proceso iterativo que:\n",
    "\n",
    "1. Busque una columna pivote (la variable de entrada a la base)\n",
    "\n",
    "2. Calcule la fila pivote (variable de salida de la base)\n",
    "\n",
    "3. Actualice el tableau con operaciones de fila (pivoteo)\n",
    "\n",
    "4. Repita hasta que no haya mejoras posibles en la función objetivo auxiliar (esto lo conseguimos cuando todos los coeficientes de la fila Z sean ≥ 0)"
   ]
  },
  {
   "cell_type": "code",
   "execution_count": 18,
   "metadata": {},
   "outputs": [],
   "source": [
    "def simplex_iteration(tableau, max_iter=100):\n",
    "    n_rows, n_cols = tableau.shape\n",
    "    for it in range(max_iter):\n",
    "        print(f\"\\nIteración {it + 1}\")\n",
    "        print(tableau)\n",
    "\n",
    "        # Paso 1: Buscar columna pivote (más negativo en Z)\n",
    "        cost_row = tableau[-1, :-1]\n",
    "        if all(cost_row >= 0):\n",
    "            print(\"\\nNo hay más coeficientes negativos en Z. Óptimo alcanzado.\")\n",
    "            break\n",
    "\n",
    "        pivot_col = np.argmin(cost_row)\n",
    "\n",
    "        # Paso 2: Calcular razones (theta)\n",
    "        ratios = []\n",
    "        for i in range(n_rows - 1):\n",
    "            element = tableau[i, pivot_col]\n",
    "            if element > 0:\n",
    "                ratio = tableau[i, -1] / element\n",
    "                ratios.append(ratio)\n",
    "            else:\n",
    "                ratios.append(np.inf)\n",
    "\n",
    "        if all(r == np.inf for r in ratios):\n",
    "            print(\"Problema ilimitado.\")\n",
    "            return tableau, False\n",
    "\n",
    "        pivot_row = np.argmin(ratios)\n",
    "\n",
    "        # Paso 3: Pivoteo\n",
    "        pivot_element = tableau[pivot_row, pivot_col]\n",
    "        tableau[pivot_row, :] /= pivot_element\n",
    "\n",
    "        for i in range(n_rows):\n",
    "            if i != pivot_row:\n",
    "                multiplier = tableau[i, pivot_col]\n",
    "                tableau[i, :] -= multiplier * tableau[pivot_row, :]\n",
    "\n",
    "    return tableau, True\n"
   ]
  },
  {
   "cell_type": "code",
   "execution_count": 21,
   "metadata": {},
   "outputs": [
    {
     "name": "stdout",
     "output_type": "stream",
     "text": [
      "\n",
      "Iteración 1\n",
      "[[  2.   1.  -1.   0.   0.   1.   0.  10.]\n",
      " [  1.  -3.   2.   0.  -1.   0.   1.   5.]\n",
      " [  1.   1.   1.   1.   0.   0.   0.  15.]\n",
      " [ -3.   2.  -1.   0.   1.  -1.  -1. -15.]]\n",
      "\n",
      "Iteración 2\n",
      "[[ 1.   0.5 -0.5  0.   0.   0.5  0.   5. ]\n",
      " [ 0.  -3.5  2.5  0.  -1.  -0.5  1.   0. ]\n",
      " [ 0.   0.5  1.5  1.   0.  -0.5  0.  10. ]\n",
      " [ 0.   3.5 -2.5  0.   1.   0.5 -1.   0. ]]\n",
      "\n",
      "Iteración 3\n",
      "[[ 1.  -0.2  0.   0.  -0.2  0.4  0.2  5. ]\n",
      " [ 0.  -1.4  1.   0.  -0.4 -0.2  0.4  0. ]\n",
      " [ 0.   2.6  0.   1.   0.6 -0.2 -0.6 10. ]\n",
      " [ 0.   0.   0.   0.   0.   0.   0.   0. ]]\n",
      "\n",
      "No hay más coeficientes negativos en Z. Óptimo alcanzado.\n",
      "\n",
      "Se encontró una SBF (fase I completada).\n"
     ]
    }
   ],
   "source": [
    "# Ejecutar la Fase I del Simplex\n",
    "tableau_final, factible = simplex_iteration(tableau)\n",
    "\n",
    "if factible:\n",
    "    print(\"\\nSe encontró una SBF (fase I completada).\")\n",
    "else:\n",
    "    print(\"\\nEl problema original es infactible.\")\n"
   ]
  },
  {
   "cell_type": "markdown",
   "metadata": {},
   "source": [
    "##### Fase 2 completa"
   ]
  },
  {
   "cell_type": "code",
   "execution_count": 22,
   "metadata": {},
   "outputs": [],
   "source": [
    "def preparar_fase_2(tableau_f1):\n",
    "    # Eliminar columnas de artificiales (a1, a2 → columnas 5 y 6)\n",
    "    tableau_f2 = np.delete(tableau_f1, [5, 6], axis=1)\n",
    "\n",
    "    # Eliminar la fila de Z auxiliar\n",
    "    tableau_f2 = tableau_f2[:-1, :]\n",
    "\n",
    "    # Agregar nueva fila de Z (función objetivo original: -5x1 + 4x2 -3x3)\n",
    "    # Las variables ahora están en orden: x1, x2, x3, s1, e1, RHS\n",
    "    z_nueva = np.array([-5, 4, -3, 0, 0, 0], dtype=float)\n",
    "\n",
    "    # Ajustar Z con respecto a las variables básicas (regla de costos)\n",
    "    for i in range(len(tableau_f2)):\n",
    "        var_basica = np.where(tableau_f2[i, :-1] == 1)[0]\n",
    "        if len(var_basica) == 1:  # Está en forma canónica\n",
    "            coef = z_nueva[var_basica[0]]\n",
    "            z_nueva -= coef * tableau_f2[i, :]\n",
    "\n",
    "    # Agregar Z como última fila\n",
    "    tableau_f2 = np.vstack([tableau_f2, z_nueva])\n",
    "\n",
    "    return tableau_f2\n"
   ]
  },
  {
   "cell_type": "code",
   "execution_count": 23,
   "metadata": {},
   "outputs": [
    {
     "name": "stdout",
     "output_type": "stream",
     "text": [
      "\n",
      "Iteración 1\n",
      "[[ 1.  -0.2  0.   0.  -0.2  5. ]\n",
      " [ 0.  -1.4  1.   0.  -0.4  0. ]\n",
      " [ 0.   2.6  0.   1.   0.6 10. ]\n",
      " [ 0.  -1.2  0.   0.  -2.2 25. ]]\n",
      "\n",
      "Iteración 2\n",
      "[[ 1.          0.66666667  0.          0.33333333  0.          8.33333333]\n",
      " [ 0.          0.33333333  1.          0.66666667  0.          6.66666667]\n",
      " [ 0.          4.33333333  0.          1.66666667  1.         16.66666667]\n",
      " [ 0.          8.33333333  0.          3.66666667  0.         61.66666667]]\n",
      "\n",
      "No hay más coeficientes negativos en Z. Óptimo alcanzado.\n",
      "\n",
      "¡Solución óptima encontrada en Fase II!\n"
     ]
    }
   ],
   "source": [
    "tableau_f2 = preparar_fase_2(tableau_final)\n",
    "\n",
    "# Ejecutar la Fase II del Simplex\n",
    "tabla_final_opt, exito = simplex_iteration(tableau_f2)\n",
    "\n",
    "if exito:\n",
    "    print(\"\\n¡Solución óptima encontrada en Fase II!\")\n",
    "else:\n",
    "    print(\"\\nEl problema original es ilimitado.\")\n"
   ]
  },
  {
   "cell_type": "markdown",
   "metadata": {},
   "source": [
    "#### Solución óptima, valor de la función objetivo y gráfica"
   ]
  },
  {
   "cell_type": "markdown",
   "metadata": {},
   "source": [
    "##### Gráfica de Región asumiendo $X_3 = 0$"
   ]
  },
  {
   "cell_type": "code",
   "execution_count": null,
   "metadata": {},
   "outputs": [
    {
     "data": {
      "image/png": "[encoded data removed]",
      "text/plain": [
       "<Figure size 1000x600 with 1 Axes>"
      ]
     },
     "metadata": {},
     "output_type": "display_data"
    }
   ],
   "source": [
    "import matplotlib.pyplot as plt\n",
    "import numpy as np\n",
    "\n",
    "# ----------------------------------------\n",
    "# Datos para graficar la región factible\n",
    "# ----------------------------------------\n",
    "\n",
    "x = np.linspace(0, 20, 400)\n",
    "\n",
    "# Restricciones del problema original:\n",
    "# R1: 2x1 + x2 - x3 = 10 → para graficar: x2 = (10 - 2x1 + x3)\n",
    "# R2: x1 - 3x2 + 2x3 >= 5\n",
    "# R3: x1 + x2 + x3 <= 15\n",
    "\n",
    "# Para graficar en 2D, fijamos x3 = 0, y graficamos respecto a x1 (x) y x2\n",
    "# R1 (con x3 = 0): x2 = 10 - 2x\n",
    "r1 = 10 - 2 * x\n",
    "# R2 (con x3 = 0): x2 = (x - 5) / 3\n",
    "r2 = (x - 5) / 3\n",
    "# R3 (con x3 = 0): x2 = 15 - x\n",
    "r3 = 15 - x\n",
    "\n",
    "# Evitamos valores negativos\n",
    "r1 = np.maximum(0, r1)\n",
    "r2 = np.maximum(0, r2)\n",
    "r3 = np.maximum(0, r3)\n",
    "\n",
    "# ----------------------------------------\n",
    "# Solución óptima encontrada:\n",
    "x1_opt = 8.333\n",
    "x2_opt = 0\n",
    "x3_opt = 6.667\n",
    "\n",
    "# Evaluar función objetivo original\n",
    "Z_opt = 5 * x1_opt - 4 * x2_opt + 3 * x3_opt\n",
    "\n",
    "# ----------------------------------------\n",
    "# Gráfico\n",
    "# ----------------------------------------\n",
    "plt.figure(figsize=(10, 6))\n",
    "\n",
    "plt.plot(x, r1, label='2x₁ + x₂ = 10', color='blue')\n",
    "plt.plot(x, r2, label='x₁ - 3x₂ = 5', color='green')\n",
    "plt.plot(x, r3, label='x₁ + x₂ = 15', color='orange')\n",
    "\n",
    "# Región factible aproximada (en 2D, con x3 = 0)\n",
    "plt.fill_between(x, 0, np.minimum(np.minimum(r1, r2), r3), color='gray', alpha=0.2)\n",
    "\n",
    "# Solución óptima (marcando solo x1, x2 porque graficamos en 2D)\n",
    "plt.scatter(x1_opt, x2_opt, color='red', label=f'Óptimo: x₁={x1_opt:.2f}, x₂={x2_opt:.2f}\\nZ={Z_opt:.2f}', zorder=5)\n",
    "\n",
    "plt.xlim(0, 20)\n",
    "plt.ylim(0, 15)\n",
    "plt.xlabel('x₁')\n",
    "plt.ylabel('x₂')\n",
    "plt.title('Región Factible Aproximada (x₃ = 0)')\n",
    "plt.grid(True)\n",
    "plt.legend()\n",
    "plt.show()\n"
   ]
  },
  {
   "cell_type": "markdown",
   "metadata": {},
   "source": [
    "#### Conclusiones\n",
    "\n",
    "- El problema es factible y tiene solución.\n",
    "\n",
    "- La función objetico se minimiza en $Z = 61.667 $ aprox.\n",
    "\n",
    "- Se identifica correctamente los valores de las variables básicas.\n",
    "\n",
    "- Las restricciones se cumplen, algunas estrictamente, otras con holgura."
   ]
  },
  {
   "cell_type": "markdown",
   "metadata": {},
   "source": [
    "## Problema 3: Comparación de Rendimiento con GLPK/Pyomo"
   ]
  },
  {
   "cell_type": "markdown",
   "metadata": {},
   "source": [
    "## Problema 4: Análisis de Sensibilidad en Programación Lineal"
   ]
  }
 ],
 "metadata": {
  "kernelspec": {
   "display_name": "Python 3",
   "language": "python",
   "name": "python3"
  },
  "language_info": {
   "codemirror_mode": {
    "name": "ipython",
    "version": 3
   },
   "file_extension": ".py",
   "mimetype": "text/x-python",
   "name": "python",
   "nbconvert_exporter": "python",
   "pygments_lexer": "ipython3",
   "version": "3.13.1"
  }
 },
 "nbformat": 4,
 "nbformat_minor": 2
}
