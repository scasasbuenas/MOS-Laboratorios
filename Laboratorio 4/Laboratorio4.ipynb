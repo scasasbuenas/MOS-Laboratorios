{
 "cells": [
  {
   "cell_type": "markdown",
   "metadata": {},
   "source": [
    "# Laboratorio 4: Método Simplex y sus Variaciones\n",
    "\n",
    "Santiago Casasbuenas - 202214932\n",
    "\n",
    "Amalia Carbonell - 202122079 "
   ]
  },
  {
   "cell_type": "markdown",
   "metadata": {},
   "source": [
    "## Problema 1: Implementación del Método Simplex Estándar\n",
    "\n",
    "Implementar el método Simplex estándar para resolver el siguiente problema de programación lineal:\n",
    "\n",
    "Maximizar:  \n",
    "$$\n",
    "Z = 3x_1 + 2x_2 + 5x_3 \n",
    "$$\n",
    "\n",
    "Sujeto a:  \n",
    "$$\n",
    "x_1 + x_2 + x_3 \\leq 100  \\\\\n",
    "2x_1 + x_2 + x_3 \\leq 150 \\\\\n",
    "x_1 + 4x_2 + 2x_3 \\leq 80\n",
    "$$\n",
    "\n",
    "Con:  \n",
    "$$\n",
    "x_1, x_2, x_3 \\geq 0 \n",
    "$$\n",
    "\n"
   ]
  },
  {
   "cell_type": "markdown",
   "metadata": {},
   "source": [
    "## Problema 2: Implementación del Método Simplex Dual Phase"
   ]
  },
  {
   "cell_type": "markdown",
   "metadata": {},
   "source": [
    "Minimizar\n",
    "$$\n",
    "Z = 5x_1 - 4x_2 + 3x_3\n",
    "$$\n",
    "\n",
    "sujeto a \n",
    "$$\n",
    "2x_1 + x_2 - x_3 = 10 \\\\\n",
    "x_1 - 3x_2 + 2x_3 \\geq 5 \\\\\n",
    "x_1 + x_2 + x_3 \\leq 15\\\\\n",
    "x_1, x_2, x_3 \\geq 0\n",
    "$$\n"
   ]
  },
  {
   "cell_type": "markdown",
   "metadata": {},
   "source": [
    "### Instrucciones:"
   ]
  },
  {
   "cell_type": "markdown",
   "metadata": {},
   "source": [
    "#### 1. Convertir el problema a la forma estándar, transformando la minimización en maximización, convirtiendo las desigualdades en igualdades mediante variables de holgura y/o exceso, y asegurando que los términos independientes sean no negativos."
   ]
  },
  {
   "cell_type": "markdown",
   "metadata": {},
   "source": [
    "##### 1.1 Convertir el problema en forma estándar\n",
    "Multiplicamos ambos lados de la ecuacion por -1 para obtener un problema de maximización:\n",
    "\n",
    "Minimizar: $Z = 5x_1 - 4x_2 + 3x_3$ \n",
    "\n",
    "Maximizar: $Z^{'} = -5x_1 + 4x_2 - 3x_3$"
   ]
  },
  {
   "cell_type": "markdown",
   "metadata": {},
   "source": [
    "##### 1.2 Convertir todas las restricciones a igualdades"
   ]
  },
  {
   "cell_type": "markdown",
   "metadata": {},
   "source": [
    "- **Para las restricciones `≤`**: Agregamos variables de holgura.\n",
    "- **Para las restricciones `≥`**: Agregamos variables de exceso y artificiales.\n",
    "- **Para las restricciones `=`**: Agregamos variables artificiales si no se puede construir una SBF directamente."
   ]
  },
  {
   "cell_type": "markdown",
   "metadata": {},
   "source": [
    "**Restricción 1 original:** \n",
    "\n",
    "$$2x_1 + x_2 - x_3 = 10$$\n",
    "\n",
    "Agregamos una variable artificial $a_1$ para poder formar una base:\n",
    "\n",
    "$$2x_1 + x_2 - x_3 + a_1 = 10$$"
   ]
  },
  {
   "cell_type": "markdown",
   "metadata": {},
   "source": [
    "**Restricción 2 original:**\n",
    "\n",
    "$$x_1 - 3x_2 + 2x_3 \\geq 5 $$\n",
    "\n",
    "Convertimos en una igualdad a partir de restar una variable de exceso $e_1$ y sumar una variable artificial $a_2$:\n",
    "\n",
    "$$x_1 - 3x_2 + 2x_3 - e_1 + a_2 = 5 $$"
   ]
  },
  {
   "cell_type": "markdown",
   "metadata": {},
   "source": [
    "**Restricción 3 original:**\n",
    "\n",
    "$$x_1 + x_2 + x_3 \\leq 15$$\n",
    "\n",
    "Añadimos una variable de holgura $s_1$:\n",
    "\n",
    "$$x_1 + x_2 + x_3 + s_1 = 15$$\n"
   ]
  },
  {
   "cell_type": "markdown",
   "metadata": {},
   "source": [
    "**Nuevas restricciones:**\n",
    "\n",
    "$$\n",
    "2x_1 + x_2 - x_3 + a_1 = 10 \\\\\n",
    "x_1 - 3x_2 + 2x_3 - e_1 + a_2 = 5 \\\\\n",
    "x_1 + x_2 + x_3 + s_1 = 15\n",
    "$$"
   ]
  },
  {
   "cell_type": "markdown",
   "metadata": {},
   "source": [
    "##### 1.3 Asegurar que los términos independientes sean no negativos\n",
    "\n",
    "Todas las ecuaciones son positivas al lado derecho, por lo cual, no se debe hacer ninguna transformación.\n",
    "\n",
    "Por lo tanto, nuestro nuevo problema se ve de la siguiente forma:"
   ]
  },
  {
   "cell_type": "markdown",
   "metadata": {},
   "source": [
    "**Maximizar:**\n",
    "\n",
    "$$\n",
    "Z^{'} = -5x_1 + 4x_2 - 3x_3\n",
    "$$\n",
    "\n",
    "**Sujeto a:**\n",
    "\n",
    "$$\n",
    "2x_1 + x_2 - x_3 + a_1 = 10 \\\\\n",
    "x_1 - 3x_2 + 2x_3 - e_1 + a_2 = 5 \\\\\n",
    "x_1 + x_2 + x_3 + s_1 = 15 \\\\\n",
    "x_1, x_2, x_3, s_1, e_1, a_1, a_2 \\geq 0\n",
    "$$"
   ]
  },
  {
   "cell_type": "markdown",
   "metadata": {},
   "source": [
    "#### 2. Implementar el algoritmo del método Simplex de Dos Fases desde cero en Python"
   ]
  },
  {
   "cell_type": "markdown",
   "metadata": {},
   "source": [
    "Nuestro objetivo es minimizar la suma de las variables artificiales:\n",
    "\n",
    "**Minimizar**\n",
    "$$\n",
    "W  = a_1 + a_2\n",
    "$$\n",
    "\n"
   ]
  },
  {
   "cell_type": "markdown",
   "metadata": {},
   "source": [
    "Podemos hacerlo como problema de maximización usando:\n",
    "\n",
    "**Maximizar**\n",
    "$$\n",
    "-W = -a_1 -a_2\n",
    "$$"
   ]
  },
  {
   "cell_type": "markdown",
   "metadata": {},
   "source": [
    "Código:"
   ]
  },
  {
   "cell_type": "code",
   "execution_count": 1,
   "metadata": {},
   "outputs": [
    {
     "name": "stdout",
     "output_type": "stream",
     "text": [
      "Tableau Inicial (Fase I):\n",
      "[[  2.   1.  -1.   0.   0.   1.   0.  10.]\n",
      " [  1.  -3.   2.   0.  -1.   0.   1.   5.]\n",
      " [  1.   1.   1.   1.   0.   0.   0.  15.]\n",
      " [ -3.   2.  -1.   0.   1.  -1.  -1. -15.]]\n"
     ]
    }
   ],
   "source": [
    "import numpy as np\n",
    "\n",
    "# Variables: x1, x2, x3, s1, e1, a1, a2\n",
    "# Orden:     x1 x2 x3 s1 e1 a1 a2 RHS\n",
    "n_vars = 7  # Número de variables (sin incluir RHS)\n",
    "tableau = []\n",
    "\n",
    "# R1: 2x1 + x2 - x3 + a1 = 10\n",
    "tableau.append([2, 1, -1, 0, 0, 1, 0, 10])\n",
    "\n",
    "# R2: x1 - 3x2 + 2x3 - e1 + a2 = 5\n",
    "tableau.append([1, -3, 2, 0, -1, 0, 1, 5])\n",
    "\n",
    "# R3: x1 + x2 + x3 + s1 = 15\n",
    "tableau.append([1, 1, 1, 1, 0, 0, 0, 15])\n",
    "\n",
    "# Función objetivo auxiliar (W = a1 + a2 → -W = -a1 - a2)\n",
    "# Notamos que las variables artificiales tienen coeficiente -1\n",
    "# Luego ajustamos para que la fila Z represente la suma negativa de las filas artificiales\n",
    "Z_row = [0] * (n_vars + 1)  # inicializar fila objetivo con ceros (sin RHS aún)\n",
    "for i in range(2):  # artificiales están en las dos primeras filas\n",
    "    for j in range(n_vars + 1):\n",
    "        Z_row[j] -= tableau[i][j]  # restar la fila para formar el -W\n",
    "tableau.append(Z_row)\n",
    "\n",
    "# Convertir a array para facilitar operaciones\n",
    "tableau = np.array(tableau, dtype=float)\n",
    "\n",
    "# Mostrar tableau inicial\n",
    "print(\"Tableau Inicial (Fase I):\")\n",
    "print(tableau)\n"
   ]
  },
  {
   "cell_type": "markdown",
   "metadata": {},
   "source": [
    "## Problema 3: Comparación de Rendimiento con GLPK/Pyomo"
   ]
  },
  {
   "cell_type": "markdown",
   "metadata": {},
   "source": [
    "## Problema 4: Análisis de Sensibilidad en Programación Lineal"
   ]
  }
 ],
 "metadata": {
  "kernelspec": {
   "display_name": "Python 3",
   "language": "python",
   "name": "python3"
  },
  "language_info": {
   "codemirror_mode": {
    "name": "ipython",
    "version": 3
   },
   "file_extension": ".py",
   "mimetype": "text/x-python",
   "name": "python",
   "nbconvert_exporter": "python",
   "pygments_lexer": "ipython3",
   "version": "3.13.1"
  }
 },
 "nbformat": 4,
 "nbformat_minor": 2
}
