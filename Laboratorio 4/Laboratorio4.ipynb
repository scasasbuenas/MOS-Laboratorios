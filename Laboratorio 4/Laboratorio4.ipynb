{
 "cells": [
  {
   "cell_type": "markdown",
   "metadata": {},
   "source": [
    "## Laboratorio 4: Método Simplex y sus Variaciones\n",
    "\n",
    "Santiago Casasbuenas - 202214932\n",
    "\n",
    "Amalia Carbonell - 202122079 "
   ]
  },
  {
   "cell_type": "markdown",
   "metadata": {},
   "source": [
    "### Problema 1: Implementación del Método Simplex Estándar\n",
    "\n",
    "Implementar el método Simplex estándar para resolver el siguiente problema de programación lineal:\n",
    "\n",
    "Maximizar:  \n",
    "$$\n",
    "Z = 3x_1 + 2x_2 + 5x_3 \n",
    "$$\n",
    "\n",
    "Sujeto a:  \n",
    "$$\n",
    "x_1 + x_2 + x_3 \\leq 100  \\\\\n",
    "2x_1 + x_2 + x_3 \\leq 150 \\\\\n",
    "x_1 + 4x_2 + 2x_3 \\leq 80\n",
    "$$\n",
    "\n",
    "Con:  \n",
    "$$\n",
    "x_1, x_2, x_3 \\geq 0 \n",
    "$$\n",
    "\n"
   ]
  },
  {
   "cell_type": "markdown",
   "metadata": {},
   "source": [
    "### Problema 2: Implementación del Método Simplex Dual Phase"
   ]
  },
  {
   "cell_type": "markdown",
   "metadata": {},
   "source": [
    "### Problema 3: Comparación de Rendimiento con GLPK/Pyomo"
   ]
  },
  {
   "cell_type": "markdown",
   "metadata": {},
   "source": [
    "### Problema 4: Análisis de Sensibilidad en Programación Lineal"
   ]
  }
 ],
 "metadata": {
  "language_info": {
   "name": "python"
  }
 },
 "nbformat": 4,
 "nbformat_minor": 2
}
