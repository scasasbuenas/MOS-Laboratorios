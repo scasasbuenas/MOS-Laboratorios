{
 "cells": [
  {
   "cell_type": "markdown",
   "id": "6d49f791",
   "metadata": {},
   "source": [
    "# Laboratorio 5: Optimización Multiobjetivo\n",
    "\n",
    "**Por:** Amalia Carbonell & Santiago Casasbuenas"
   ]
  },
  {
   "cell_type": "markdown",
   "id": "94377a69",
   "metadata": {},
   "source": [
    "## Problema 1: Optimización Multiobjetivo en Distribución de Recursos para Misión Humanitaria"
   ]
  },
  {
   "cell_type": "markdown",
   "id": "e2df1ee5",
   "metadata": {},
   "source": [
    "### 1. Formulación del Modelo Multiobjetivo"
   ]
  },
  {
   "cell_type": "markdown",
   "id": "490240b1",
   "metadata": {},
   "source": [
    "### 2. Implementación del Método de la Suma Ponderada"
   ]
  },
  {
   "cell_type": "markdown",
   "id": "1f314764",
   "metadata": {},
   "source": [
    "### 3. Implementación del Método ϵ-constrain"
   ]
  },
  {
   "cell_type": "markdown",
   "id": "7dba5dbd",
   "metadata": {},
   "source": [
    "### 4. Análisis y Discusión Adicional"
   ]
  },
  {
   "cell_type": "markdown",
   "id": "73bc3e5f",
   "metadata": {},
   "source": [
    "## Problema 2: Optimización Multiobjetivo en PLanificación de Rutas de Inspección"
   ]
  },
  {
   "cell_type": "markdown",
   "id": "e8074c36",
   "metadata": {},
   "source": [
    "### 1. Formulación del Modelo Multiobjetivo"
   ]
  },
  {
   "cell_type": "markdown",
   "id": "a3fede1a",
   "metadata": {},
   "source": [
    "### 2. Selección y Justificación del Método de Resolución"
   ]
  },
  {
   "cell_type": "markdown",
   "id": "5b543248",
   "metadata": {},
   "source": [
    "### 3. Implementación y Análisis"
   ]
  },
  {
   "cell_type": "markdown",
   "id": "42ddf9e7",
   "metadata": {},
   "source": [
    "### 4. Análisis y Discusión Adicional"
   ]
  }
 ],
 "metadata": {
  "language_info": {
   "name": "python"
  }
 },
 "nbformat": 4,
 "nbformat_minor": 5
}
