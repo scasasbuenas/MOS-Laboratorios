{
 "cells": [
  {
   "cell_type": "markdown",
   "id": "6d49f791",
   "metadata": {},
   "source": [
    "# Laboratorio 5: Optimización Multiobjetivo\n",
    "\n",
    "**Por:** Amalia Carbonell & Santiago Casasbuenas"
   ]
  },
  {
   "cell_type": "markdown",
   "id": "94377a69",
   "metadata": {},
   "source": [
    "## Problema 1: Optimización Multiobjetivo en Distribución de Recursos para Misión Humanitaria"
   ]
  },
  {
   "cell_type": "markdown",
   "id": "e2df1ee5",
   "metadata": {},
   "source": [
    "### 1. Formulación del Modelo Multiobjetivo"
   ]
  },
  {
   "cell_type": "markdown",
   "id": "84aca841",
   "metadata": {},
   "source": [
    "#### a. Recursos\n",
    "\n",
    "$R$: Conjunto de recursos = {alimentos, medicinas, equipos médicos, agua, mantas}\n",
    "\n",
    "$A$: Conjunto de aviones = {1,2,3,4}\n",
    "\n",
    "$Z$: Conjunto de zonas de destino = {A,B,C,D}\n",
    "\n",
    "$V$: Conjunto de viajes por avión = {1,2} (Cada avión puede hacer hasta 2 viajes)"
   ]
  },
  {
   "cell_type": "markdown",
   "id": "44cd658f",
   "metadata": {},
   "source": [
    "#### b. Parámetros\n",
    "\n",
    "**Recursos:**\n",
    "\n",
    "- $v_i$: valor de impacto social por tonelada del recurso $i$\n",
    "\n",
    "- $p_i$: Peso por unidad del recurso $i$\n",
    "\n",
    "- $vol_i$: Volumen por unidad del recurso $i$\n",
    "\n",
    "- $disp_i$: Unidades disponibles del recurso $i$\n",
    "\n",
    "**Aviones:**\n",
    "\n",
    "- $capp_j$: Capacidad en peso del avión $j$ (TON)\n",
    "\n",
    "- $capvol_j$: Capacidad en volumen del avión $j$ $(m^3)$\n",
    "\n",
    "- $cfijo_j$: Costo fijo de usar avión $j$ (miles USD)\n",
    "\n",
    "- $cvar_j$: Costo variable por km del avión $j$ (miles USD/km)\n",
    "\n",
    "**Zonas:**\n",
    "\n",
    "- $d_k$: Distancia a la zona k (km)\n",
    "\n",
    "- $m_k$: Multiplicador de impacto social de la zona $k$\n",
    "\n",
    "- $min_{ik}$: Necesidad mínima del recurso $i$ en la zona $k$"
   ]
  },
  {
   "cell_type": "markdown",
   "id": "81a1da77",
   "metadata": {},
   "source": [
    "#### c. Variables de Decisión\n",
    "\n",
    "- $x_{ijvk}$: Cantidad (TON) del recursos $i$ transportado por avión $j$ en el viaje $v$ a la zona $k$\n",
    "\n",
    "- $y_{jvk} \\in$ {0,1}: 1 si el avión $j$ en el viaje $v$ va a la zona $k$\n",
    "\n",
    "- $v_j \\in$ {0,1}: 1 si el avión $j$ es usado en al menos de un viaje, 0 si no.\n",
    "\n",
    "- $n \\_ equipos_{jvk}$: Cantidad entera de unidades de equipos transportados (por indivisibilidad)"
   ]
  },
  {
   "cell_type": "markdown",
   "id": "a06b1e3a",
   "metadata": {},
   "source": [
    "#### d. Funciones Objetivo\n",
    "\n",
    "**Objetivo 1**: Maximizar el valor de impacto social total\n",
    "\n",
    "$$\n",
    "Z_1 = \\sum_{i \\in R} \\sum_{j \\in A} \\sum_{v \\in V} \\sum_{k \\in Z} v_i * x_{ijvk} * m_k\n",
    "$$\n",
    "\n",
    "**Objetivo 2**: Minimizar el costo total del transporte\n",
    "\n",
    "$$\n",
    "Z_2 = \\sum_{j \\in A} cfijo_j * u_j + \\sum_{j \\in A} \\sum_{v \\in V} \\sum_{k \\in Z} cvar_j * d_k * y_{jvk}\n",
    "$$\n"
   ]
  },
  {
   "cell_type": "markdown",
   "id": "43e4fa8b",
   "metadata": {},
   "source": [
    "#### e. Restricciones"
   ]
  },
  {
   "cell_type": "markdown",
   "id": "c0d885d8",
   "metadata": {},
   "source": [
    "**Restricción 1**: capacidad de peso de cada avión por viaje\n",
    "\n",
    "Cada avión tiene un límite de peso por viaje que no debe ser excedido.\n",
    "\n",
    "$$\n",
    "\\sum_{i \\in R} p_i * x_{ijvk} \\leq capp_j \\quad \\forall j \\in A, \\quad \\forall v \\in V, \\quad \\forall k \\in Z\n",
    "$$"
   ]
  },
  {
   "cell_type": "markdown",
   "id": "d02a0c2a",
   "metadata": {},
   "source": [
    "**Restricción 2**: Capacidad de volumen de cada avión por viaje\n",
    "\n",
    "Cada avión tambien tiene un límite de volumen.\n",
    "\n",
    "$$\n",
    "\\sum_{i \\in R} vol_i * x_{ijvk} \\leq capvol_j \\quad \\forall j \\in A, \\quad \\forall v \\in V, \\quad \\forall k \\in Z\n",
    "$$\n",
    "\n",
    "\n"
   ]
  },
  {
   "cell_type": "markdown",
   "id": "cfe32fd1",
   "metadata": {},
   "source": [
    "**Restricción 3:** Seguridad de medicamentos\n",
    "\n",
    "Los medicamentos no pueden ser transportados en el avión 1, por falta de refrigeración.\n",
    "\n",
    "$$\n",
    "x_{medicinas, 1, v, k} = 0 \\quad \\forall v \\in V, \\quad \\forall k \\in Z \n",
    "$$"
   ]
  },
  {
   "cell_type": "markdown",
   "id": "936eb194",
   "metadata": {},
   "source": [
    "**Restricción 4:** Incompatibilidad entre agua potable y equipos médicos\n",
    "\n",
    "estos dos recursos no pueden ser transportados juntos en el mismo viaje, por riesgo de contaminación.\n",
    "\n",
    "$$\n",
    "x_{agua, 1, v, k} > 0 ⇒ x_{equipos, j, v, k} \\quad \\forall j \\in A \\quad \\forall v \\in V, \\quad \\forall k \\in Z \n",
    "$$\n",
    "\n",
    "Esta restricción toca expresarla con variables binarias en la modelación de piomo, ya que también funciona en el sentido inverso, pero esto es una aproximación de lo que representa la restricción y su funcionamiento."
   ]
  },
  {
   "cell_type": "markdown",
   "id": "61329eaa",
   "metadata": {},
   "source": [
    "**Restricción 5:** Indivisibilidad de equipos mmédicos\n",
    "\n",
    "Cada equipo medico pesa 0.3 TON y debe enviarse en unidades completas no separables.\n",
    "\n",
    "$$\n",
    "x_{equipos, j, v, k} = 0.3 * n_{jvk}, \\quad n_{jvk} \\in \\mathbb{Z}_{\\leq 0} \\quad \\forall j,v,k\n",
    "$$"
   ]
  },
  {
   "cell_type": "markdown",
   "id": "91765846",
   "metadata": {},
   "source": [
    "**Restrección 6: Zona única por viaje**\n",
    "\n",
    "Un avión en un viaje solo puede ir a una zona:\n",
    "\n",
    "$$\n",
    "\\sum_{k \\in Z} y_{jvk} \\leq 1 \\quad \\forall j \\in A, \\forall v \\in V\n",
    "$$\n",
    "\n",
    "Y para que los $x_{ijvk}$ tengan sentido, se deben enviar recursos solo si el avión fue asignado a esa zona:\n",
    "\n",
    "$$\n",
    "x_{ijvk} \\le M * y_jvk \\quad \\forall i, j, v, k\n",
    "$$\n",
    "\n",
    "donde $M$ es un valor lo suficientemente grande."
   ]
  },
  {
   "cell_type": "markdown",
   "id": "02f4630b",
   "metadata": {},
   "source": [
    "**Restricción 7:** Satisfacción de necesidades mínimas\n",
    "\n",
    "Cada zona debe recibir al menos la cantidad mínima requerida de cada recurso:\n",
    "\n",
    "$$\n",
    "\\sum_{j \\in A} \\sum_{v \\in V} \\leq min_{ik} \\quad \\forall i \\in R, \\forall k \\in Z\n",
    "$$"
   ]
  },
  {
   "cell_type": "markdown",
   "id": "2329bdec",
   "metadata": {},
   "source": [
    "**Restricción 8:** Disponibilidad máxima de recursos\n",
    "\n",
    "No se puede transportar más de lo que hay disponible:\n",
    "\n",
    "$$\n",
    "\\sum_{j \\in A} \\sum_{v \\in V} \\sum_{k \\in Z} \\frac{x_{ijvk}}{p_i} \\leq disp_i \\quad \\forall i \\in R\n",
    "$$\n",
    "\n",
    "donde $x$ se trabaja en toneladas y la disponibilidad está en unidades."
   ]
  },
  {
   "cell_type": "markdown",
   "id": "e15281fc",
   "metadata": {},
   "source": [
    "**Restricción 9**: Activación del avión si se usa en algún viaje\n",
    "\n",
    "Si un avión se usa en al menos un viaje, entonces su variable binaria debe activarse:\n",
    "\n",
    "$$\n",
    "y_{jik} \\leq u_j \\quad \\forall j, v, k\n",
    "$$"
   ]
  },
  {
   "cell_type": "markdown",
   "id": "1f314764",
   "metadata": {},
   "source": [
    "### 2. Implementación del modelo en pyomo"
   ]
  },
  {
   "cell_type": "markdown",
   "id": "fe8f1208",
   "metadata": {},
   "source": [
    "Definición de Modelo Base en Pyomo"
   ]
  },
  {
   "cell_type": "code",
   "execution_count": null,
   "id": "783045b5",
   "metadata": {},
   "outputs": [],
   "source": [
    "from pyomo.environ import *\n",
    "\n",
    "model = ConcreteModel()\n",
    "\n",
    "# CONJUNTOS\n",
    "\n",
    "# Recursos\n",
    "model.R = Set(initialize = ['alimentos', 'medicinas', 'equipos', 'agua', 'mantas'])\n",
    "\n",
    "# Aviones\n",
    "model.A = Set(initialize = [1,2,3,4])\n",
    "\n",
    "# Zonas\n",
    "model.Z = Set(initialize = ['A', 'B', 'C', 'D'])\n",
    "\n",
    "# Viajes por avión\n",
    "model.V = Set(initialize = [1,2])"
   ]
  },
  {
   "cell_type": "markdown",
   "id": "94ae8da4",
   "metadata": {},
   "source": [
    "Parámetros"
   ]
  },
  {
   "cell_type": "code",
   "execution_count": null,
   "id": "88ca3453",
   "metadata": {},
   "outputs": [],
   "source": [
    "# PARÁMETROS\n",
    "\n",
    "# Valor de impacto por tonelada\n",
    "valor_impacto = {\n",
    "    'alimentos': 50, \n",
    "    'medicinas': 100, \n",
    "    'equipos': 120, \n",
    "    'agua': 60, \n",
    "    'mantas': 40\n",
    "}\n",
    "model.valor_impacto = Param(model.R, initialize=valor_impacto)\n",
    "\n",
    "# Peso por unidad (TON/unidad)\n",
    "peso = {\n",
    "    'alimentos': 5,\n",
    "    'medicinas': 2,\n",
    "    'equipos': 0.3,\n",
    "    'agua': 6,\n",
    "    'mantas': 3\n",
    "}\n",
    "model.peso = Param(model.R, initialize=peso)\n",
    "\n",
    "# volumen por unidad\n",
    "volumen = {\n",
    "    'alimentos': 3,\n",
    "    'medicinas': 1,\n",
    "    'equipos': 0.5,\n",
    "    'agua': 4,\n",
    "    'mantas': 2\n",
    "}\n",
    "model.volumen = Param(model.R, initialize=volumen)\n",
    "\n",
    "# disponibilidad en unidades\n",
    "disponibilidad = {\n",
    "    'alimentos': 12,\n",
    "    'medicinas': 15,\n",
    "    'equipos': 40,\n",
    "    'agua': 15,\n",
    "    'mantas': 20\n",
    "}\n",
    "model.disponibilidad = Param(model.R, initialize=disponibilidad)\n",
    "\n",
    "# capacidad de peso y volumen de los aviones\n",
    "cap_peso = {\n",
    "    1: 40,\n",
    "    2: 50,\n",
    "    3: 60,\n",
    "    4: 45\n",
    "}\n",
    "model.cap_peso = Param(model.A, initialize=cap_peso)\n",
    "\n",
    "# capacidad de volumen de los aviones\n",
    "cap_vol = {\n",
    "    1: 35,\n",
    "    2: 40,\n",
    "    3: 45,\n",
    "    4: 38\n",
    "}\n",
    "model.cap_vol = Param(model.A, initialize=cap_vol)\n",
    "\n",
    "# Costo fijo de cada avión \n",
    "costo_fijo = {\n",
    "    1: 15,\n",
    "    2: 20,\n",
    "    3: 25,\n",
    "    4: 18\n",
    "}\n",
    "model.costo_fijo = Param(model.A, initialize=costo_fijo)\n",
    "\n",
    "# Costo variable por km\n",
    "costo_variable = {\n",
    "    1: 0.020,\n",
    "    2: 0.025,\n",
    "    3: 0.030,\n",
    "    4: 0.022\n",
    "}\n",
    "model.costo_variable = Param(model.A, initialize=costo_variable)\n",
    "\n",
    "# Distancia a cada zona\n",
    "distancia = {\n",
    "    'A': 800,\n",
    "    'B': 1200,\n",
    "    'C': 1500,\n",
    "    'D': 900\n",
    "}\n",
    "model.distancia = Param(model.Z, initialize=distancia)\n",
    "\n",
    "# Multiplicador de impacto social de cada zona\n",
    "multiplicador = {\n",
    "    'A': 1.2,\n",
    "    'B': 1.5,\n",
    "    'C': 1.8,\n",
    "    'D': 1.4\n",
    "}\n",
    "model.multiplicador = Param(model.Z, initialize=multiplicador)\n",
    "\n",
    "# Necesidades mínimas de cada recurso por zona\n",
    "necesidades_minimas = {\n",
    "    ('alimentos', 'A'): 8,  ('agua', 'A'): 6,   ('medicinas', 'A'): 2,  ('equipos', 'A'): 0.6,  ('mantas', 'A'): 3,\n",
    "    ('alimentos', 'B'): 12, ('agua', 'B'): 9,   ('medicinas', 'B'): 3,  ('equipos', 'B'): 0.9,  ('mantas', 'B'): 5,\n",
    "    ('alimentos', 'C'): 16, ('agua', 'C'): 12,  ('medicinas', 'C'): 4,  ('equipos', 'C'): 1.2,  ('mantas', 'C'): 7,\n",
    "    ('alimentos', 'D'): 10, ('agua', 'D'): 8,   ('medicinas', 'D'): 2,  ('equipos', 'D'): 0.6,  ('mantas', 'D'): 4\n",
    "}\n",
    "model.min_necesidad = Param(model.R, model.Z, initialize=necesidades_minimas)\n"
   ]
  },
  {
   "cell_type": "markdown",
   "id": "616ebffa",
   "metadata": {},
   "source": [
    "Variables"
   ]
  },
  {
   "cell_type": "code",
   "execution_count": null,
   "id": "4154cd12",
   "metadata": {},
   "outputs": [],
   "source": [
    "# Cantidad de recursos i enviados por avión j en viaje v a k\n",
    "model.x = Var(model.R, model.A, model.V, model.Z, within=NonNegativeReals)\n",
    "\n",
    "# Binaria y: 1 si el avión j en el viaje v va a la zona k, 0 en caso contrario\n",
    "model.y = Var(model.A, model.V, model.Z, within=Binary)\n",
    "\n",
    "# Bnaria u: 1 si el avión j es utilizado\n",
    "model.u = Var(model.A, within=Binary)\n",
    "\n",
    "# Número de equipos médicos transportados (indivisible)\n",
    "model.n_equipos = Var(model.A, model.V, model.Z, within=NonNegativeIntegers) \n",
    "\n",
    "# Variables auxiliares\n",
    "model.presencia_agua = Var(model.A, model.V, model.Z, within=Binary)\n",
    "model.presencia_equipos = Var(model.A, model.V, model.Z, within=Binary)"
   ]
  },
  {
   "cell_type": "markdown",
   "id": "be9d499e",
   "metadata": {},
   "source": [
    "Restricciones"
   ]
  },
  {
   "cell_type": "code",
   "execution_count": null,
   "id": "4e793c72",
   "metadata": {},
   "outputs": [],
   "source": [
    "# RESTRICCIONES\n",
    "\n",
    "# Capacidad de peso por viaje\n",
    "def capacidad_peso_rule(model, j, v, k):\n",
    "    return sum(model.peso[i] * model.x[i,j,v,k] for i in model.R) <= model.cap_peso[j]\n",
    "\n",
    "model.capacidad_peso = Constraint(model.A, model.V, model.Z, rule=capacidad_peso_rule)\n",
    "\n",
    "\n",
    "# Capacidad de volumen por viaje\n",
    "def capacidad_vol_rule(model, j, v, k):\n",
    "    return sum(model.volumen[i] * model.x[i,j,v,k] for i in model.R) <= model.cap_vol[j]\n",
    "\n",
    "model.CapacidadVolumen = Constraint(model.A, model.V, model.Z, rule=capacidad_vol_rule)\n",
    "\n",
    "\n",
    "# Medicina no pueden ir en el avión 1 \n",
    "def restriccion_medicinas_avion1_rule(model, v, k):\n",
    "    return model.x['medicinas', 1, v, k] == 0\n",
    "\n",
    "model.RestriccionMedicinas = Constraint(model.V, model.Z, rule=restriccion_medicinas_avion1_rule)\n",
    "\n",
    "\n",
    "# Solo una zona por viaje\n",
    "def unica_zona_por_viaje_rule(model, j, v):\n",
    "    return sum(model.y[j, v, k] for k in model.Z) <= 1\n",
    "\n",
    "model.ZonaUnicaPorViaje = Constraint(model.A, model.V, rule=unica_zona_por_viaje_rule)\n",
    "\n",
    "\n",
    "M = 9999999\n",
    "\n",
    "# Si se transporta agua, entoncees presencia_agua = 1\n",
    "def agua_implica_presencia_rule(model, j, v, k):\n",
    "    return model.x['agua', j, v, k] <= M * model.presencia_agua[j, v, k]\n",
    "\n",
    "model.AguaPresente = Constraint(model.A, model.V, model.Z, rule=agua_implica_presencia_rule)\n",
    "\n",
    "\n",
    "# Si se transporta equipos, entonces presencia_equipos = 1\n",
    "def equipos_implica_presencia_rule(model, j, v, k):\n",
    "    return model.x['equipos', j, v, k] <= M * model.presencia_equipos[j, v, k]\n",
    "\n",
    "model.EquiposPresentes = Constraint(model.A, model.V, model.Z, rule=equipos_implica_presencia_rule)\n",
    "\n",
    "\n",
    "# El agua y los equipos no pueden estar juntos\n",
    "def no_agua_y_equipos_juntos_rule(model, j, v, k):\n",
    "    return model.presencia_agua[j, v, k] + model.presencia_equipos[j, v, k] <= 1\n",
    "\n",
    "model.CompatibilidadAguaEquipos = Constraint(model.A, model.V, model.Z, rule=no_agua_y_equipos_juntos_rule)\n",
    "\n",
    "\n",
    "# Indivisibilidad de equipos médicos\n",
    "def indivisibilidad_rule(model, j, v, k):\n",
    "    return model.x['equipos', j, v, k] == 0.3 * model.n_equipos[j, v, k]\n",
    "\n",
    "model.IndivisibilidadEquipos = Constraint(model.A, model.V, model.Z, rule=indivisibilidad_rule)\n",
    "\n",
    "\n",
    "def envio_si_asignado_rule(model, i, j, v, k):\n",
    "    return model.x[i, j, v, k] <= M * model.y[j, v, k]\n",
    "\n",
    "model.EnvioSoloSiAsignado = Constraint(model.R, model.A, model.V, model.Z, rule=envio_si_asignado_rule)\n",
    "\n",
    "\n",
    "# Satisfacción de necesidades mínimas\n",
    "def necesidades_minimas_rule(model, i, k):\n",
    "    return sum(model.x[i, j, v, k] for j in model.A for v in model.V) >= model.min_necesidad[i, k]\n",
    "\n",
    "model.NecesidadesMinimas = Constraint(model.R, model.Z, rule=necesidades_minimas_rule)\n",
    "\n",
    "\n",
    "# No exceder disponibilidad\n",
    "def disponibilidad_maxima_rule(model, i):\n",
    "    total_transportado = sum(model.x[i, j, v, k] / model.peso[i] for j in model.A for v in model.V for k in model.Z)\n",
    "    return total_transportado <= model.disponibilidad[i]\n",
    "\n",
    "model.LimiteDisponibilidad = Constraint(model.R, rule=disponibilidad_maxima_rule)\n",
    "\n",
    "\n",
    "# Activación de avión si se usa\n",
    "def uso_avion_rule(model, j, v, k):\n",
    "    return model.y[j, v, k] <= model.u[j]\n",
    "\n",
    "model.UsoAvion = Constraint(model.A, model.V, model.Z, rule=uso_avion_rule)\n",
    "\n",
    "\n",
    "# Activar el avión si transporta algo (ligar u[j] con x[i,j,v,k])\n",
    "def uso_avion_implicado_por_envio_rule(model, j):\n",
    "    return sum(model.x[i, j, v, k] for i in model.R for v in model.V for k in model.Z) <= M * model.u[j]\n",
    "\n",
    "model.ActivarAvionSiTransporta = Constraint(model.A, rule=uso_avion_implicado_por_envio_rule)\n",
    "\n",
    "\n",
    "#Activar un viaje si hay carga para una zona (ligar y[j,v,k] con x[i,j,v,k])\n",
    "def activar_y_si_envio_rule(model, j, v, k):\n",
    "    return sum(model.x[i, j, v, k] for i in model.R) <= M * model.y[j, v, k]\n",
    "\n",
    "model.ActivarViajeSiEnvio = Constraint(model.A, model.V, model.Z, rule=activar_y_si_envio_rule)\n"
   ]
  },
  {
   "cell_type": "markdown",
   "id": "90553150",
   "metadata": {},
   "source": [
    "Funciones Objetivo"
   ]
  },
  {
   "cell_type": "markdown",
   "id": "4874161a",
   "metadata": {},
   "source": [
    "Maximizar el Valor de Impacto Social ($Z_1$)\n",
    "\n",
    "\n",
    "$$\n",
    "Z_1 = \\sum_{i \\in R} \\sum_{j \\in A} \\sum_{v \\in V} \\sum_{k \\in Z} v_i * x_{ijvk} * m_k\n",
    "$$\n"
   ]
  },
  {
   "cell_type": "code",
   "execution_count": null,
   "id": "7d39fc25",
   "metadata": {},
   "outputs": [],
   "source": [
    "def impacto_social_rule(model):\n",
    "    return sum(model.valor_impacto[i] * model.x[i, j, v, k] * model.multiplicador[k]\n",
    "               for i in model.R for j in model.A for v in model.V for k in model.Z)\n",
    "model.ImpactoSocial = Objective(rule=impacto_social_rule, sense=maximize)"
   ]
  },
  {
   "cell_type": "markdown",
   "id": "48171889",
   "metadata": {},
   "source": [
    "Minimizar el costo total de transporte ($Z_2$)"
   ]
  },
  {
   "cell_type": "markdown",
   "id": "f079fe87",
   "metadata": {},
   "source": [
    "$$\n",
    "Z_2 = \\sum{j \\in A} cfijo_j * u_j + \\sum_{j \\in A} \\sum_{v \\in V} \\sum_{k \\in Z} cvar_j * d_k * y_{jvk}\n",
    "$$"
   ]
  },
  {
   "cell_type": "code",
   "execution_count": null,
   "id": "fce9a228",
   "metadata": {},
   "outputs": [],
   "source": [
    "\"\"\"\n",
    "\n",
    "def costo_total_rule(model):\n",
    "    return sum(model.costo_fijo[j] * model.u[j] for j in model.A) + \\\n",
    "           sum(model.costo_variable[j] * model.distancia[k] * model.y[j, v, k]\n",
    "               for j in model.A for v in model.V for k in model.Z)\n",
    "model.CostoTotal = Objective(rule=costo_total_rule, sense=minimize)\n",
    "\n",
    "\"\"\""
   ]
  },
  {
   "cell_type": "markdown",
   "id": "2a737ec9",
   "metadata": {},
   "source": [
    "### 3. Implementación del Método ϵ-constrain"
   ]
  },
  {
   "cell_type": "markdown",
   "id": "0b9c6e28",
   "metadata": {},
   "source": [
    "**¿Por qué ϵ-constrain?**\n",
    "\n",
    "Los objetivos que tenemos son muy distintos entre sí. Por un lado, queremos maximizar el impacto social y por el otro queremos minimizar. Queremos asegurarque las necesidades mínimas se cumplen primero, luego ver cómo hacer el transporte \"barato\". Es muy probable que el frente de Pareto no sea perfectamente convexo, por la rigidez de las necesidades mínimas y la indivisibilidad de euqipos médicos.\n",
    "\n",
    "El método ϵ-constrain nos asegura un alto impacto social, limitando el costo de una manera contralada mediante ϵ. Finalmente, nos permite capturar soluciones que la suma ponderada podría pasar por alto (en zonas no convexas del frente)."
   ]
  },
  {
   "cell_type": "markdown",
   "id": "a150de0d",
   "metadata": {},
   "source": [
    "**Plan:**\n",
    "Maximizar el objetivo principal (Impacto social) y convertir el segundo (costo total) en una restricción con distintos valores de ϵ."
   ]
  },
  {
   "cell_type": "markdown",
   "id": "0d8466f1",
   "metadata": {},
   "source": [
    "1. Mantenemos el impacto social como única función objetivo (done)\n",
    "\n",
    "2. Agregar restricción de costo total $\\leq$ ϵ"
   ]
  },
  {
   "cell_type": "code",
   "execution_count": null,
   "id": "59acb280",
   "metadata": {},
   "outputs": [],
   "source": [
    "model.epsilon = Param(initialize=9999, mutable=True)  # valor inicial alto, mutable para poder cambiarlo"
   ]
  },
  {
   "cell_type": "markdown",
   "id": "d4586e9f",
   "metadata": {},
   "source": [
    "3. El costo total queda como restricción"
   ]
  },
  {
   "cell_type": "code",
   "execution_count": null,
   "id": "23970b26",
   "metadata": {},
   "outputs": [],
   "source": [
    "def costo_total_expr(model):\n",
    "    return sum(model.costo_fijo[j] * model.u[j] for j in model.A) + \\\n",
    "           sum(model.costo_variable[j] * model.distancia[k] * model.y[j, v, k]\n",
    "               for j in model.A for v in model.V for k in model.Z)\n",
    "\n",
    "model.CostoTotalExpr = Expression(rule=costo_total_expr)"
   ]
  },
  {
   "cell_type": "markdown",
   "id": "1b57d82d",
   "metadata": {},
   "source": [
    "4. Agregar restricción de tipo ϵ"
   ]
  },
  {
   "cell_type": "code",
   "execution_count": null,
   "id": "14a7905e",
   "metadata": {},
   "outputs": [],
   "source": [
    "def epsilon_constraint_rule(model):\n",
    "    return model.CostoTotalExpr <= model.epsilon\n",
    "\n",
    "model.EpsilonRestriccionCosto = Constraint(rule=epsilon_constraint_rule)"
   ]
  },
  {
   "cell_type": "markdown",
   "id": "1763dceb",
   "metadata": {},
   "source": [
    "5 Resolver el modelo con distintos valores de ϵ"
   ]
  },
  {
   "cell_type": "code",
   "execution_count": null,
   "id": "f5611dbc",
   "metadata": {},
   "outputs": [],
   "source": [
    "model.ImpactoSocial.activate()\n",
    "\n",
    "from pyomo.opt import SolverFactory, TerminationCondition\n",
    "from pyomo.environ import value\n",
    "import matplotlib.pyplot as plt\n",
    "\n",
    "# Crear solver\n",
    "solver = SolverFactory('glpk')\n",
    "\n",
    "# Lista de valores de ϵ a evaluar\n",
    "epsilons = list(range(420, 550, 10))  # puedes ajustar el rango\n",
    "\n",
    "# Lista para guardar las soluciones (costo, impacto)\n",
    "pareto_solutions = []\n",
    "\n",
    "# Resolver para cada valor de ϵ\n",
    "for eps in epsilons:\n",
    "    model.epsilon = eps\n",
    "    results = solver.solve(model, tee=False)\n",
    "    \n",
    "    if (results.solver.termination_condition == TerminationCondition.optimal or\n",
    "        results.solver.termination_condition == TerminationCondition.feasible):\n",
    "        impacto = value(model.ImpactoSocial)\n",
    "        costo = value(model.CostoTotalExpr)\n",
    "        pareto_solutions.append((costo, impacto))\n",
    "        print(f\"✔️ Épsilon = {eps} → Costo: {costo:.2f}, Impacto: {impacto:.2f}\")\n",
    "    else:\n",
    "        print(f\"❌ Épsilon = {eps} → No factible\")\n",
    "\n",
    "# Mostrar soluciones\n",
    "print(\"\\n📊 Soluciones de Pareto:\")\n",
    "for c, i in pareto_solutions:\n",
    "    print(f\" - Costo: {c:.2f}  |  Impacto: {i:.2f}\")\n"
   ]
  },
  {
   "cell_type": "markdown",
   "id": "143cb11f",
   "metadata": {},
   "source": [
    "6. Graficamos el frente de pareto"
   ]
  },
  {
   "cell_type": "code",
   "execution_count": null,
   "id": "3b5cefca",
   "metadata": {},
   "outputs": [],
   "source": [
    "# Extraer listas para graficar\n",
    "costos, impactos = zip(*pareto_solutions)\n",
    "\n",
    "plt.figure(figsize=(8, 6))\n",
    "plt.plot(costos, impactos, marker='o', linestyle='-')\n",
    "plt.xlabel('Costo total (miles USD)')\n",
    "plt.ylabel('Impacto social')\n",
    "plt.title('Frente de Pareto (Método ϵ-constraint)')\n",
    "plt.grid(True)\n",
    "plt.tight_layout()\n",
    "plt.show()\n"
   ]
  },
  {
   "cell_type": "markdown",
   "id": "7dba5dbd",
   "metadata": {},
   "source": [
    "### 4. Análisis y Discusión Adicional"
   ]
  },
  {
   "cell_type": "markdown",
   "id": "73bc3e5f",
   "metadata": {},
   "source": [
    "## Problema 2: Optimización Multiobjetivo en PLanificación de Rutas de Inspección"
   ]
  },
  {
   "cell_type": "markdown",
   "id": "e8074c36",
   "metadata": {},
   "source": [
    "### 1. Formulación del Modelo Multiobjetivo"
   ]
  },
  {
   "cell_type": "markdown",
   "id": "a3fede1a",
   "metadata": {},
   "source": [
    "### 2. Selección y Justificación del Método de Resolución"
   ]
  },
  {
   "cell_type": "markdown",
   "id": "5b543248",
   "metadata": {},
   "source": [
    "### 3. Implementación y Análisis"
   ]
  },
  {
   "cell_type": "markdown",
   "id": "42ddf9e7",
   "metadata": {},
   "source": [
    "### 4. Análisis y Discusión Adicional"
   ]
  }
 ],
 "metadata": {
  "kernelspec": {
   "display_name": "pynomo_env",
   "language": "python",
   "name": "python3"
  },
  "language_info": {
   "codemirror_mode": {
    "name": "ipython",
    "version": 3
   },
   "file_extension": ".py",
   "mimetype": "text/x-python",
   "name": "python",
   "nbconvert_exporter": "python",
   "pygments_lexer": "ipython3",
   "version": "3.9.21"
  }
 },
 "nbformat": 4,
 "nbformat_minor": 5
}
