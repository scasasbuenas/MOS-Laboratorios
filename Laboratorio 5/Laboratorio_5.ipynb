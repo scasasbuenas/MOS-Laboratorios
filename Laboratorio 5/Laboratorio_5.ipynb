{
 "cells": [
  {
   "cell_type": "markdown",
   "id": "6d49f791",
   "metadata": {},
   "source": [
    "# Laboratorio 5: Optimización Multiobjetivo\n",
    "\n",
    "**Por:** Amalia Carbonell & Santiago Casasbuenas"
   ]
  },
  {
   "cell_type": "markdown",
   "id": "94377a69",
   "metadata": {},
   "source": [
    "## Problema 1: Optimización Multiobjetivo en Distribución de Recursos para Misión Humanitaria"
   ]
  },
  {
   "cell_type": "markdown",
   "id": "e2df1ee5",
   "metadata": {},
   "source": [
    "### 1. Formulación del Modelo Multiobjetivo"
   ]
  },
  {
   "cell_type": "markdown",
   "id": "84aca841",
   "metadata": {},
   "source": [
    "#### a. Recursos\n",
    "\n",
    "$R$: Conjunto de recursos = {alimentos, medicinas, equipos médicos, agua, mantas}\n",
    "\n",
    "$A$: Conjunto de aviones = {1,2,3,4}\n",
    "\n",
    "$Z$: Conjunto de zonas de destino = {A,B,C,D}\n",
    "\n",
    "$V$: Conjunto de viajes por avión = {1,2} (Cada avión puede hacer hasta 2 viajes)"
   ]
  },
  {
   "cell_type": "markdown",
   "id": "44cd658f",
   "metadata": {},
   "source": [
    "#### b. Parámetros\n",
    "\n",
    "**Recursos:**\n",
    "\n",
    "- $v_i$: valor de impacto social por tonelada del recurso $i$\n",
    "\n",
    "- $p_i$: Peso por unidad del recurso $i$\n",
    "\n",
    "- $vol_i$: Volumen por unidad del recurso $i$\n",
    "\n",
    "- $disp_i$: Unidades disponibles del recurso $i$\n",
    "\n",
    "**Aviones:**\n",
    "\n",
    "- $capp_j$: Capacidad en peso del avión $j$ (TON)\n",
    "\n",
    "- $capvol_j$: Capacidad en volumen del avión $j$ $(m^3)$\n",
    "\n",
    "- $cfijo_j$: Costo fijo de usar avión $j$ (miles USD)\n",
    "\n",
    "- $cvar_j$: Costo variable por km del avión $j$ (miles USD/km)\n",
    "\n",
    "**Zonas:**\n",
    "\n",
    "- $d_k$: Distancia a la zona k (km)\n",
    "\n",
    "- $m_k$: Multiplicador de impacto social de la zona $k$\n",
    "\n",
    "- $min_{ik}$: Necesidad mínima del recurso $i$ en la zona $k$"
   ]
  },
  {
   "cell_type": "markdown",
   "id": "81a1da77",
   "metadata": {},
   "source": [
    "#### c. Variables de Decisión\n",
    "\n",
    "- $x_{ijvk}$: Cantidad (TON) del recursos $i$ transportado por avión $j$ en el viaje $v$ a la zona $k$\n",
    "\n",
    "- $y_{jvk} \\in$ {0,1}: 1 si el avión $j$ en el viaje $v$ va a la zona $k$\n",
    "\n",
    "- $v_j \\in$ {0,1}: 1 si el avión $j$ es usado en al menos de un viaje, 0 si no."
   ]
  },
  {
   "cell_type": "markdown",
   "id": "a06b1e3a",
   "metadata": {},
   "source": [
    "#### d. Funciones Objetivo\n",
    "\n",
    "**Objetivo 1**: Maximizar el valor de impacto social total\n",
    "\n",
    "$$\n",
    "Z_1 = \\sum_{i \\in R} \\sum_{j \\in A} \\sum_{v \\in V} \\sum_{k \\in Z} v_i * x_{ijvk} * m_k\n",
    "$$\n",
    "\n",
    "**Objetivo 2**: Minimizar el costo total del transporte\n",
    "\n",
    "$$\n",
    "Z_2 = \\sum{j \\in A} cfijo_j * u_j + \\sum_{j \\in A} \\sum_{v \\in V} \\sum_{k \\in Z} cvar_j * d_k * y_{jvk}\n",
    "$$\n"
   ]
  },
  {
   "cell_type": "markdown",
   "id": "43e4fa8b",
   "metadata": {},
   "source": [
    "#### e. Restricciones"
   ]
  },
  {
   "cell_type": "markdown",
   "id": "c0d885d8",
   "metadata": {},
   "source": [
    "**Restricción 1**: capacidad de peso de cada avión por viaje\n",
    "\n",
    "Cada avión tiene un límite de peso por viaje que no debe ser excedido.\n",
    "\n",
    "$$\n",
    "\\sum_{i \\in R} p_i * x_{ijvk} \\leq capp_j \\quad \\forall j \\in A, \\quad \\forall v \\in V, \\quad \\forall k \\in Z\n",
    "$$"
   ]
  },
  {
   "cell_type": "markdown",
   "id": "d02a0c2a",
   "metadata": {},
   "source": [
    "**Restricción 2**: Capacidad de volumen de cada avión por viaje\n",
    "\n",
    "Cada avión tambien tiene un límite de volumen.\n",
    "\n",
    "$$\n",
    "\\sum_{i \\in R} vol_i * x_{ijvk} \\leq capvol_j \\quad \\forall j \\in A, \\quad \\forall v \\in V, \\quad \\forall k \\in Z\n",
    "$$\n",
    "\n",
    "\n"
   ]
  },
  {
   "cell_type": "markdown",
   "id": "cfe32fd1",
   "metadata": {},
   "source": [
    "**Restricción 3:** Seguridad de medicamentos\n",
    "\n",
    "Los medicamentos no pueden ser transportados en el avión 1, por falta de refrigeración.\n",
    "\n",
    "$$\n",
    "x_{medicinas, 1, v, k} = 0 \\quad \\forall v \\in V, \\quad \\forall k \\in Z \n",
    "$$"
   ]
  },
  {
   "cell_type": "markdown",
   "id": "936eb194",
   "metadata": {},
   "source": [
    "**Restricción 4:** Incompatibilidad entre agua potable y equipos médicos\n",
    "\n",
    "estos dos recursos no pueden ser transportados juntos en el mismo viaje, por riesgo de contaminación.\n",
    "\n",
    "$$\n",
    "x_{agua, 1, v, k} > 0 ⇒ x_{equipos, j, v, k} \\quad \\forall j \\in A \\quad \\forall v \\in V, \\quad \\forall k \\in Z \n",
    "$$\n",
    "\n",
    "Esta restricción toca expresarla con variables binarias en la modelación de piomo, ya que también funciona en el sentido inverso, pero esto es una aproximación de lo que representa la restricción y su funcionamiento."
   ]
  },
  {
   "cell_type": "markdown",
   "id": "61329eaa",
   "metadata": {},
   "source": [
    "**Restricción 5:** Indivisibilidad de equipos mmédicos\n",
    "\n",
    "Cada equipo medico pesa 0.3 TON y debe enviarse en unidades completas no separables.\n",
    "\n",
    "$$\n",
    "x_{equipos, j, v, k} = 0.3 * n_{jvk}, \\quad n_{jvk} \\in \\mathbb{Z}_{\\leq 0} \\quad \\forall j,v,k\n",
    "$$"
   ]
  },
  {
   "cell_type": "markdown",
   "id": "91765846",
   "metadata": {},
   "source": [
    "**Restrección 6: Zona única por viaje**\n",
    "\n",
    "Un avión en un viaje solo puede ir a una zona:\n",
    "\n",
    "$$\n",
    "\\sum_{k \\in Z} y_{jvk} \\leq 1 \\quad \\forall j \\in A, \\forall v \\in V\n",
    "$$\n",
    "\n",
    "Y para que los $x_{ijvk}$ tengan sentido, se deben enviar recursos solo si el avión fue asignado a esa zona:\n",
    "\n",
    "$$\n",
    "x_{ijvk} \\le M * y_jvk \\quad \\forall i, j, v, k\n",
    "$$\n",
    "\n",
    "donde $M$ es un valor lo suficientemente grande."
   ]
  },
  {
   "cell_type": "markdown",
   "id": "02f4630b",
   "metadata": {},
   "source": [
    "**Restricción 7:** Satisfacción de necesidades mínimas\n",
    "\n",
    "Cada zona debe recibir al menos la cantidad mínima requerida de cada recurso:\n",
    "\n",
    "$$\n",
    "\\sum_{j \\in A} \\sum_{v \\in V} \\leq min_{ik} \\quad \\forall i \\in R, \\forall k \\in Z\n",
    "$$"
   ]
  },
  {
   "cell_type": "markdown",
   "id": "2329bdec",
   "metadata": {},
   "source": [
    "**Restricción 8:** Disponibilidad máxima de recursos\n",
    "\n",
    "No se puede transportar más de lo que hay disponible:\n",
    "\n",
    "$$\n",
    "\\sum_{j \\in A} \\sum_{v \\in V} \\sum_{k \\in Z} \\frac{x_{ijvk}}{p_i} \\leq disp_i \\quad \\forall i \\in R\n",
    "$$\n",
    "\n",
    "donde $x$ se trabaja en toneladas y la disponibilidad está en unidades."
   ]
  },
  {
   "cell_type": "markdown",
   "id": "e15281fc",
   "metadata": {},
   "source": [
    "**Restricción 9**: Activación del avión si se usa en algún viaje\n",
    "\n",
    "Si un avión se usa en al menos un viaje, entonces su variable binaria debe activarse:\n",
    "\n",
    "$$\n",
    "y_{jik} \\leq u_j \\quad \\forall j, v, k\n",
    "$$"
   ]
  },
  {
   "cell_type": "markdown",
   "id": "1f314764",
   "metadata": {},
   "source": [
    "### 3. Implementación del Método ϵ-constrain"
   ]
  },
  {
   "cell_type": "markdown",
   "id": "7dba5dbd",
   "metadata": {},
   "source": [
    "### 4. Análisis y Discusión Adicional"
   ]
  },
  {
   "cell_type": "markdown",
   "id": "73bc3e5f",
   "metadata": {},
   "source": [
    "## Problema 2: Optimización Multiobjetivo en PLanificación de Rutas de Inspección"
   ]
  },
  {
   "cell_type": "markdown",
   "id": "e8074c36",
   "metadata": {},
   "source": [
    "### 1. Formulación del Modelo Multiobjetivo"
   ]
  },
  {
   "cell_type": "markdown",
   "id": "a3fede1a",
   "metadata": {},
   "source": [
    "### 2. Selección y Justificación del Método de Resolución"
   ]
  },
  {
   "cell_type": "markdown",
   "id": "5b543248",
   "metadata": {},
   "source": [
    "### 3. Implementación y Análisis"
   ]
  },
  {
   "cell_type": "markdown",
   "id": "42ddf9e7",
   "metadata": {},
   "source": [
    "### 4. Análisis y Discusión Adicional"
   ]
  }
 ],
 "metadata": {
  "language_info": {
   "name": "python"
  }
 },
 "nbformat": 4,
 "nbformat_minor": 5
}
