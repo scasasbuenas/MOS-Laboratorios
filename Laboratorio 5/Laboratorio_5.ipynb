{
 "cells": [
  {
   "cell_type": "markdown",
   "id": "6d49f791",
   "metadata": {},
   "source": [
    "# Laboratorio 5: Optimización Multiobjetivo\n",
    "\n",
    "**Por:** Amalia Carbonell & Santiago Casasbuenas"
   ]
  },
  {
   "cell_type": "markdown",
   "id": "94377a69",
   "metadata": {},
   "source": [
    "## Problema 1: Optimización Multiobjetivo en Distribución de Recursos para Misión Humanitaria"
   ]
  },
  {
   "cell_type": "markdown",
   "id": "e2df1ee5",
   "metadata": {},
   "source": [
    "### 1. Formulación del Modelo Multiobjetivo"
   ]
  },
  {
   "cell_type": "markdown",
   "id": "84aca841",
   "metadata": {},
   "source": [
    "#### a. Recursos\n",
    "\n",
    "$R$: Conjunto de recursos = {alimentos, medicinas, equipos médicos, agua, mantas}\n",
    "\n",
    "$A$: Conjunto de aviones = {1,2,3,4}\n",
    "\n",
    "$Z$: Conjunto de zonas de destino = {A,B,C,D}\n",
    "\n",
    "$V$: Conjunto de viajes por avión = {1,2} (Cada avión puede hacer hasta 2 viajes)"
   ]
  },
  {
   "cell_type": "markdown",
   "id": "44cd658f",
   "metadata": {},
   "source": [
    "#### b. Parámetros\n",
    "\n",
    "**Recursos:**\n",
    "\n",
    "- $v_i$: valor de impacto social por tonelada del recurso $i$\n",
    "\n",
    "- $p_i$: Peso por unidad del recurso $i$\n",
    "\n",
    "- $vol_i$: Volumen por unidad del recurso $i$\n",
    "\n",
    "- $disp_i$: Unidades disponibles del recurso $i$\n",
    "\n",
    "**Aviones:**\n",
    "\n",
    "- $capp_j$: Capacidad en peso del avión $j$ (TON)\n",
    "\n",
    "- $capvol_j$: Capacidad en volumen del avión $j$ $(m^3)$\n",
    "\n",
    "- $cfijo_j$: Costo fijo de usar avión $j$ (miles USD)\n",
    "\n",
    "- $cvar_j$: Costo variable por km del avión $j$ (miles USD/km)\n",
    "\n",
    "**Zonas:**\n",
    "\n",
    "- $d_k$: Distancia a la zona k (km)\n",
    "\n",
    "- $m_k$: Multiplicador de impacto social de la zona $k$\n",
    "\n",
    "- $min_{ik}$: Necesidad mínima del recurso $i$ en la zona $k$"
   ]
  },
  {
   "cell_type": "markdown",
   "id": "81a1da77",
   "metadata": {},
   "source": [
    "#### c. Variables de Decisión\n",
    "\n",
    "- $x_{ijvk}$: Cantidad (TON) del recursos $i$ transportado por avión $j$ en el viaje $v$ a la zona $k$\n",
    "\n",
    "- $y_{jvk} \\in$ {0,1}: 1 si el avión $j$ en el viaje $v$ va a la zona $k$\n",
    "\n",
    "- $v_j \\in$ {0,1}: 1 si el avión $j$ es usado en al menos de un viaje, 0 si no."
   ]
  },
  {
   "cell_type": "markdown",
   "id": "a06b1e3a",
   "metadata": {},
   "source": [
    "#### d. Funciones Objetivo\n",
    "\n",
    "**Objetivo 1**: Maximizar el valor de impacto social total\n",
    "\n",
    "$$\n",
    "Z_1 = \\sum_{i \\in R} \\sum_{j \\in A} \\sum_{v \\in V} \\sum_{k \\in Z} v_i * x_{ijvk} * m_k\n",
    "$$\n",
    "\n",
    "**Objetivo 2**: Minimizar el costo total del transporte\n",
    "\n",
    "$$\n",
    "Z_2 = \\sum{j \\in A} cfijo_j * u_j + \\sum_{j \\in A} \\sum_{v \\in V} \\sum_{k \\in Z} cvar_j * d_k * y_{jvk}\n",
    "$$\n"
   ]
  },
  {
   "cell_type": "markdown",
   "id": "43e4fa8b",
   "metadata": {},
   "source": [
    "#### e. Restricciones"
   ]
  },
  {
   "cell_type": "markdown",
   "id": "490240b1",
   "metadata": {},
   "source": [
    "### 2. Implementación del Método de la Suma Ponderada"
   ]
  },
  {
   "cell_type": "markdown",
   "id": "1f314764",
   "metadata": {},
   "source": [
    "### 3. Implementación del Método ϵ-constrain"
   ]
  },
  {
   "cell_type": "markdown",
   "id": "7dba5dbd",
   "metadata": {},
   "source": [
    "### 4. Análisis y Discusión Adicional"
   ]
  },
  {
   "cell_type": "markdown",
   "id": "73bc3e5f",
   "metadata": {},
   "source": [
    "## Problema 2: Optimización Multiobjetivo en PLanificación de Rutas de Inspección"
   ]
  },
  {
   "cell_type": "markdown",
   "id": "e8074c36",
   "metadata": {},
   "source": [
    "### 1. Formulación del Modelo Multiobjetivo"
   ]
  },
  {
   "cell_type": "markdown",
   "id": "a3fede1a",
   "metadata": {},
   "source": [
    "### 2. Selección y Justificación del Método de Resolución"
   ]
  },
  {
   "cell_type": "markdown",
   "id": "5b543248",
   "metadata": {},
   "source": [
    "### 3. Implementación y Análisis"
   ]
  },
  {
   "cell_type": "markdown",
   "id": "42ddf9e7",
   "metadata": {},
   "source": [
    "### 4. Análisis y Discusión Adicional"
   ]
  }
 ],
 "metadata": {
  "language_info": {
   "name": "python"
  }
 },
 "nbformat": 4,
 "nbformat_minor": 5
}
